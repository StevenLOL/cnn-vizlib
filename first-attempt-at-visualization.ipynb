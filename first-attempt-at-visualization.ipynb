{
 "cells": [
  {
   "cell_type": "markdown",
   "metadata": {},
   "source": [
    "# First attempts at visualization\n",
    "\n",
    "The purpose of this notebook is to evaluate different visualization methods on different tasks:\n",
    "\n",
    "1. Triangle vs Circle\n",
    "2. Counting spots\n",
    "3. Counting die numbers\n",
    "\n",
    "We first look at the dataset, followed by training networks, and finally looking at their visualizations."
   ]
  },
  {
   "cell_type": "markdown",
   "metadata": {},
   "source": [
    "## Triangle vs Circle\n",
    "\n",
    "### The dataset"
   ]
  },
  {
   "cell_type": "code",
   "execution_count": 2,
   "metadata": {
    "collapsed": false
   },
   "outputs": [
    {
     "name": "stderr",
     "output_type": "stream",
     "text": [
      "Using gpu device 0: Tesla K40c (CNMeM is disabled, CuDNN not available)\n",
      "/home/wojtek/.local/lib/python2.7/site-packages/theano/tensor/signal/downsample.py:5: UserWarning: downsample module has been moved to the pool module.\n",
      "  warnings.warn(\"downsample module has been moved to the pool module.\")\n"
     ]
    }
   ],
   "source": [
    "%load_ext autoreload\n",
    "%autoreload 2\n",
    "%matplotlib inline\n",
    "import vizlib\n",
    "import matplotlib.pylab as plt\n",
    "import numpy as np\n",
    "import pandas as pd\n",
    "import lasagne\n",
    "import nolearn.lasagne\n",
    "from lasagne.layers import *\n",
    "import theano\n",
    "import theano.tensor as T\n",
    "from sklearn.metrics import confusion_matrix\n",
    "import nolearn.lasagne.visualize\n",
    "\n",
    "plt.rcParams['image.cmap'] = 'gray'\n",
    "plt.rcParams['image.interpolation'] = 'none'"
   ]
  },
  {
   "cell_type": "code",
   "execution_count": 3,
   "metadata": {
    "collapsed": false
   },
   "outputs": [
    {
     "data": {
      "image/png": "[encoded data removed]",
      "text/plain": [
       "<matplotlib.figure.Figure at 0x7f83241640d0>"
      ]
     },
     "metadata": {},
     "output_type": "display_data"
    }
   ],
   "source": [
    "ds = vizlib.data.triangle_and_circle().show_sample()"
   ]
  },
  {
   "cell_type": "code",
   "execution_count": 4,
   "metadata": {
    "collapsed": false
   },
   "outputs": [
    {
     "data": {
      "text/plain": [
       "1    50\n",
       "0    50\n",
       "dtype: int64"
      ]
     },
     "execution_count": 4,
     "metadata": {},
     "output_type": "execute_result"
    }
   ],
   "source": [
    "pd.value_counts(ds.y)"
   ]
  },
  {
   "cell_type": "code",
   "execution_count": 5,
   "metadata": {
    "collapsed": false
   },
   "outputs": [
    {
     "name": "stdout",
     "output_type": "stream",
     "text": [
      "(set([-1.3877787807814457e-17, -8.1532003370909933e-17]), set([1.0, 0.99999999999999989]))\n"
     ]
    }
   ],
   "source": [
    "# Here we have 100 samples total. For each category are images are identical.\n",
    "# I just duplicated to allow reuse of code\n",
    "# ---just 2 images gives problems with splitting the dataset into train and test.\n",
    "# All datasets are z-standardized by default, \n",
    "# that is to say, each individual image is transformed to have 0 mean and 1 std:\n",
    "print(set(ds.X.mean(axis=(1,2,3))), set(ds.X.std(axis=(1,2,3))))"
   ]
  },
  {
   "cell_type": "markdown",
   "metadata": {},
   "source": [
    "### Training a network"
   ]
  },
  {
   "cell_type": "code",
   "execution_count": 33,
   "metadata": {
    "collapsed": false
   },
   "outputs": [
    {
     "data": {
      "text/plain": [
       "(array([[50,  0],\n",
       "        [ 0, 50]]), 1.0)"
      ]
     },
     "execution_count": 33,
     "metadata": {},
     "output_type": "execute_result"
    }
   ],
   "source": [
    "# One can image such a thing can be easily learned using a shallow network.\n",
    "# For example, with a single filter that just 'remembers' the entire input image.\n",
    "np.random.seed(52)\n",
    "input_layer = InputLayer((None, 1, 32, 32))\n",
    "conv_layer = Conv2DLayer(input_layer, num_filters=1, filter_size=(32,32), pad=0)\n",
    "dense_layer = DenseLayer(conv_layer, num_units=2, nonlinearity=lasagne.nonlinearities.softmax)\n",
    "# FIXME: the learning_rate needs to be 1, and if I 'overtrain', \n",
    "# the network starts to underperform on the training set.\n",
    "# - I tried using nolearn.lasagne.NeuralNet instead of my GpuNet implementation,\n",
    "#   but the results are the same.\n",
    "nn = nolearn.lasagne.NeuralNet(dense_layer, update_learning_rate=1, update_momentum=0.9, verbose=0)\n",
    "nn.fit(ds.X, ds.y, epochs=100)\n",
    "confusion_matrix(ds.y, nn.predict(ds.X)), (ds.y == nn.predict(ds.X)).mean()"
   ]
  },
  {
   "cell_type": "code",
   "execution_count": 35,
   "metadata": {
    "collapsed": false
   },
   "outputs": [
    {
     "data": {
      "text/plain": [
       "{(0.49999999999997036, 0.50000000000002975),\n",
       " (0.50000000000005529, 0.49999999999994466)}"
      ]
     },
     "execution_count": 35,
     "metadata": {},
     "output_type": "execute_result"
    }
   ],
   "source": [
    "set([tuple(x) for x in nn.predict_proba(ds.X)])\n",
    "# The predictions are very close together...\n",
    "# Training longer does not help, in fact, the results get worse!"
   ]
  },
  {
   "cell_type": "markdown",
   "metadata": {},
   "source": [
    "### Visualizing a Network"
   ]
  },
  {
   "cell_type": "code",
   "execution_count": 36,
   "metadata": {
    "collapsed": false
   },
   "outputs": [
    {
     "data": {
      "image/png": "[encoded data removed]",
      "text/plain": [
       "<matplotlib.figure.Figure at 0x7f82c89eb490>"
      ]
     },
     "metadata": {},
     "output_type": "display_data"
    }
   ],
   "source": [
    "# Looking simply at the filter of the conv_layer already gives us\n",
    "# a reasonable idea of what is going in this case\n",
    "plt.matshow(conv_layer.W.get_value().squeeze());"
   ]
  },
  {
   "cell_type": "markdown",
   "metadata": {},
   "source": [
    "#### Activation Maximization\n",
    "\n",
    "We may also look at inputs that maximize the activation of certain neurons.\n",
    "\n",
    "Here we use the activation to mean the sum of the inputs, rather than the sum of the inputs w/ a non-linearity applied on it (which would be the output of said neuron).\n",
    "\n",
    "In this case I found that gradient descent does not reach an optimum if no additional constraints are applied. That is to say, if there are no contraints on the input image, we can always do (not strictly) better simply by multiplying the pixel intensities of the input image."
   ]
  },
  {
   "cell_type": "code",
   "execution_count": 37,
   "metadata": {
    "collapsed": false
   },
   "outputs": [
    {
     "name": "stdout",
     "output_type": "stream",
     "text": [
      "(-3.1225022567582528e-17, 1.0)\n"
     ]
    }
   ],
   "source": [
    "X_init = np.random.randn(1, 1, 32, 32).astype(theano.config.floatX)\n",
    "X_init -= X_init.mean()\n",
    "X_init /= X_init.std()\n",
    "print(X_init.mean(), X_init.std())"
   ]
  },
  {
   "cell_type": "code",
   "execution_count": 38,
   "metadata": {
    "collapsed": false
   },
   "outputs": [],
   "source": [
    "max_norm = lasagne.utils.compute_norms(X_init).max()\n",
    "scores_and_maximizers = vizlib.activation_maximization.maximize_scores(dense_layer, X_init, number_of_iterations=10000, max_norm=max_norm)\n",
    "scores, maximizers = zip(*scores_and_maximizers)"
   ]
  },
  {
   "cell_type": "code",
   "execution_count": 39,
   "metadata": {
    "collapsed": false
   },
   "outputs": [
    {
     "data": {
      "image/png": "[encoded data removed]",
      "text/plain": [
       "<matplotlib.figure.Figure at 0x7f82bd664b90>"
      ]
     },
     "metadata": {},
     "output_type": "display_data"
    }
   ],
   "source": [
    "for i, (s, m) in enumerate(scores_and_maximizers, 1):\n",
    "    plt.subplot(1, len(scores_and_maximizers), i)\n",
    "    plt.imshow(m.squeeze())\n",
    "    plt.title(s)\n",
    "# Apparently it is enough to learn the concept of a circle."
   ]
  },
  {
   "cell_type": "code",
   "execution_count": 48,
   "metadata": {
    "collapsed": false
   },
   "outputs": [
    {
     "name": "stdout",
     "output_type": "stream",
     "text": [
      "(array([0]), array([[ 0.5,  0.5]]))\n",
      "(array([1]), array([[ 0.5,  0.5]]))\n",
      "(array([0]), array([[ 1.,  0.]]))\n",
      "(array([1]), array([[ 0.5,  0.5]]))\n"
     ]
    }
   ],
   "source": [
    "# Apparently it is enough to simply learn the concept of [not] a circle.\n",
    "triangle = ds.X[ds.y == 0][0:1]\n",
    "circle = ds.X[ds.y == 1][0:1]\n",
    "\n",
    "triangle_maximizer = maximizers[0]\n",
    "circle_maximizer = maximizers[1]\n",
    "\n",
    "print(nn.predict(triangle), nn.predict_proba(triangle))\n",
    "print(nn.predict(circle), nn.predict_proba(circle))\n",
    "\n",
    "print(nn.predict(triangle_maximizer), nn.predict_proba(triangle_maximizer))\n",
    "print(nn.predict(circle_maximizer), nn.predict_proba(circle_maximizer))\n",
    "# We see that we can just barely distinguish a circle from a triangle.\n",
    "# The 0.5 are rounded, in practice they allow us to differentiate."
   ]
  },
  {
   "cell_type": "markdown",
   "metadata": {},
   "source": [
    "#### Class Saliency Maps\n",
    "\n",
    "The key idea behind a Class Saliency Map is that we assign to each pixel an importance value.\n",
    "\n",
    "Two methods to determine this importance are suggested in the literature.\n",
    "\n",
    "The first is to occlude or cover certain parts of the input image, and then observe the effect on the class score. If occluding a certain part of the image leads to a big difference in class score, that part of the image is assumed important.\n",
    "\n",
    "Another approach is to approximate the class score function using Taylor Series Expansion. The first term in this expansion is the gradient of the class score evaluated at the input image, multiplied by the input image. We can thus assume the magnitude of the gradient to determine the importance of each input pixel."
   ]
  },
  {
   "cell_type": "markdown",
   "metadata": {},
   "source": [
    "##### Image Occlusion"
   ]
  },
  {
   "cell_type": "code",
   "execution_count": 49,
   "metadata": {
    "collapsed": false
   },
   "outputs": [
    {
     "data": {
      "image/png": "[encoded data removed]",
      "text/plain": [
       "<matplotlib.figure.Figure at 0x7f82bd7ce110>"
      ]
     },
     "metadata": {},
     "output_type": "display_data"
    }
   ],
   "source": [
    "\n",
    "\n",
    "\n",
    "occ00 = vizlib.class_saliency_map.occlusion(ds.X[0][None,:,:,:], dense_layer, 0)\n",
    "occ01 = vizlib.class_saliency_map.occlusion(ds.X[0][None,:,:,:], dense_layer, 1)\n",
    "plt.subplot(1,3,1)\n",
    "plt.imshow(ds.X[0].squeeze())\n",
    "plt.subplot(1,3,2)\n",
    "plt.imshow(occ00)\n",
    "plt.subplot(1,3,3)\n",
    "plt.imshow(occ01);"
   ]
  },
  {
   "cell_type": "code",
   "execution_count": 50,
   "metadata": {
    "collapsed": false
   },
   "outputs": [
    {
     "data": {
      "image/png": "[encoded data removed]",
      "text/plain": [
       "<matplotlib.figure.Figure at 0x7f82c7faf690>"
      ]
     },
     "metadata": {},
     "output_type": "display_data"
    }
   ],
   "source": [
    "occ00 = vizlib.class_saliency_map.occlusion(ds.X[2][None,:,:,:], dense_layer, 0)\n",
    "occ01 = vizlib.class_saliency_map.occlusion(ds.X[2][None,:,:,:], dense_layer, 1)\n",
    "plt.subplot(1,3,1)\n",
    "plt.imshow(ds.X[2].squeeze())\n",
    "plt.subplot(1,3,2)\n",
    "plt.imshow(occ00)\n",
    "plt.subplot(1,3,3)\n",
    "plt.imshow(occ01);"
   ]
  },
  {
   "cell_type": "code",
   "execution_count": 51,
   "metadata": {
    "collapsed": false
   },
   "outputs": [
    {
     "data": {
      "text/plain": [
       "<matplotlib.image.AxesImage at 0x7f82bd8964d0>"
      ]
     },
     "execution_count": 51,
     "metadata": {},
     "output_type": "execute_result"
    },
    {
     "data": {
      "image/png": "[encoded data removed]",
      "text/plain": [
       "<matplotlib.figure.Figure at 0x7f82be7c26d0>"
      ]
     },
     "metadata": {},
     "output_type": "display_data"
    }
   ],
   "source": [
    "plt.imshow(vizlib.class_saliency_map.taylor_expansion(ds.X[2][None,:,:,:], dense_layer, 0))"
   ]
  }
 ],
 "metadata": {
  "kernelspec": {
   "display_name": "Python 2",
   "language": "python",
   "name": "python2"
  },
  "language_info": {
   "codemirror_mode": {
    "name": "ipython",
    "version": 2
   },
   "file_extension": ".py",
   "mimetype": "text/x-python",
   "name": "python",
   "nbconvert_exporter": "python",
   "pygments_lexer": "ipython2",
   "version": "2.7.11"
  }
 },
 "nbformat": 4,
 "nbformat_minor": 0
}
