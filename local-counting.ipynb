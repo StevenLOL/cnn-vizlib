{
 "cells": [
  {
   "cell_type": "code",
   "execution_count": 42,
   "metadata": {
    "collapsed": false
   },
   "outputs": [
    {
     "name": "stdout",
     "output_type": "stream",
     "text": [
      "The autoreload extension is already loaded. To reload it, use:\n",
      "  %reload_ext autoreload\n"
     ]
    }
   ],
   "source": [
    "%load_ext autoreload\n",
    "%autoreload 2\n",
    "%matplotlib inline\n",
    "import vizlib\n",
    "import matplotlib.pylab as plt\n",
    "import numpy as np\n",
    "import pandas as pd\n",
    "import lasagne\n",
    "import nolearn.lasagne\n",
    "from lasagne.layers import *\n",
    "import theano\n",
    "import theano.tensor as T\n",
    "from sklearn.metrics import confusion_matrix\n",
    "import nolearn.lasagne.visualize\n",
    "\n",
    "plt.rcParams['image.cmap'] = 'gray'\n",
    "plt.rcParams['image.interpolation'] = 'none'\n",
    "plt.rcParams['figure.figsize'] = (12.0, 8.0)"
   ]
  },
  {
   "cell_type": "code",
   "execution_count": 44,
   "metadata": {
    "collapsed": false
   },
   "outputs": [
    {
     "data": {
      "image/png": "[encoded data removed]",
      "text/plain": [
       "<matplotlib.figure.Figure at 0x7f7382905590>"
      ]
     },
     "metadata": {},
     "output_type": "display_data"
    }
   ],
   "source": [
    "ds = vizlib.data.counting_2d(size=(32,32), n_examples=10000, min_spots=1, max_spots=5, seed=42).show_sample()\n",
    "plt.tight_layout()\n",
    "# Plot is a bit misleading --- all spots are the same shape."
   ]
  },
  {
   "cell_type": "code",
   "execution_count": 45,
   "metadata": {
    "collapsed": false
   },
   "outputs": [
    {
     "data": {
      "text/plain": [
       "((10000, 1, 32, 32), 4)"
      ]
     },
     "execution_count": 45,
     "metadata": {},
     "output_type": "execute_result"
    }
   ],
   "source": [
    "ds.X.shape, ds.y.max()"
   ]
  },
  {
   "cell_type": "code",
   "execution_count": 60,
   "metadata": {
    "collapsed": false
   },
   "outputs": [],
   "source": [
    "il = InputLayer((None,1,32,32))\n",
    "cl = Conv2DLayer(il, num_filters=1, filter_size=(3,3), pad='same')\n",
    "dl = DenseLayer(cl, num_units=5, nonlinearity=lasagne.nonlinearities.softmax)"
   ]
  },
  {
   "cell_type": "code",
   "execution_count": 61,
   "metadata": {
    "collapsed": true
   },
   "outputs": [],
   "source": [
    "nn = nolearn.lasagne.NeuralNet(dl, verbose=1, update_learning_rate=1e-2, update_momentum=0.9)"
   ]
  },
  {
   "cell_type": "code",
   "execution_count": 62,
   "metadata": {
    "collapsed": false
   },
   "outputs": [
    {
     "name": "stdout",
     "output_type": "stream",
     "text": [
      "# Neural Network with 5135 learnable parameters\n",
      "\n",
      "## Layer information\n",
      "\n",
      "  #    name  output_shapes    nonlinearity    conv_shapes\n",
      "---  ------  ---------------  --------------  -------------\n",
      "  0          1x32x32\n",
      "             1x32x32          rectify         3x3|P=sxaxmxe\n",
      "             5                softmax\n",
      "\n",
      "  epoch    train loss    valid loss    train/val    train acc    valid acc  dur\n",
      "-------  ------------  ------------  -----------  -----------  -----------  -----\n",
      "      1       \u001b[36m1.44471\u001b[0m       \u001b[32m1.21282\u001b[0m      1.19120      0.33983      0.39882  1.30s\n",
      "      2       \u001b[36m1.09123\u001b[0m       \u001b[32m1.00132\u001b[0m      1.08979      0.43136      0.52426  1.28s\n",
      "      3       \u001b[36m0.94835\u001b[0m       \u001b[32m0.89637\u001b[0m      1.05799      0.58154      0.61266  1.27s\n",
      "      4       \u001b[36m0.85794\u001b[0m       \u001b[32m0.81701\u001b[0m      1.05009      0.65793      0.62883  1.28s\n",
      "      5       \u001b[36m0.78405\u001b[0m       \u001b[32m0.74694\u001b[0m      1.04969      0.72010      0.77939  1.28s\n",
      "      6       \u001b[36m0.72104\u001b[0m       \u001b[32m0.69290\u001b[0m      1.04062      0.78156      0.81006  1.28s\n",
      "      7       \u001b[36m0.66866\u001b[0m       \u001b[32m0.64535\u001b[0m      1.03613      0.79954      0.81006  1.28s\n",
      "      8       \u001b[36m0.62359\u001b[0m       \u001b[32m0.60376\u001b[0m      1.03284      0.80512      0.80957  1.28s\n",
      "      9       \u001b[36m0.58139\u001b[0m       \u001b[32m0.56816\u001b[0m      1.02328      0.80586      0.80957  1.32s\n",
      "     10       \u001b[36m0.54506\u001b[0m       \u001b[32m0.53389\u001b[0m      1.02094      0.80549      0.80957  1.29s\n",
      "     11       \u001b[36m0.51576\u001b[0m       \u001b[32m0.49902\u001b[0m      1.03354      0.80524      0.80957  1.33s\n",
      "     12       \u001b[36m0.48918\u001b[0m       \u001b[32m0.47772\u001b[0m      1.02398      0.80524      0.80957  1.31s\n",
      "     13       \u001b[36m0.46810\u001b[0m       \u001b[32m0.45579\u001b[0m      1.02700      0.80537      0.80957  1.27s\n",
      "     14       \u001b[36m0.45040\u001b[0m       \u001b[32m0.43856\u001b[0m      1.02700      0.80537      0.80957  1.28s\n",
      "     15       \u001b[36m0.43437\u001b[0m       \u001b[32m0.42531\u001b[0m      1.02130      0.80537      0.81006  1.28s\n",
      "     16       \u001b[36m0.42145\u001b[0m       \u001b[32m0.41111\u001b[0m      1.02516      0.80524      0.80957  1.27s\n",
      "     17       \u001b[36m0.40941\u001b[0m       \u001b[32m0.40029\u001b[0m      1.02278      0.80512      0.80957  1.28s\n",
      "     18       \u001b[36m0.40016\u001b[0m       \u001b[32m0.39172\u001b[0m      1.02155      0.80487      0.80957  1.28s\n",
      "     19       \u001b[36m0.39152\u001b[0m       \u001b[32m0.38358\u001b[0m      1.02069      0.80487      0.80957  1.27s\n",
      "     20       \u001b[36m0.38443\u001b[0m       \u001b[32m0.37751\u001b[0m      1.01832      0.80500      0.80957  1.28s\n",
      "     21       \u001b[36m0.37920\u001b[0m       \u001b[32m0.37196\u001b[0m      1.01946      0.80475      0.80957  1.27s\n",
      "     22       \u001b[36m0.37383\u001b[0m       \u001b[32m0.36710\u001b[0m      1.01832      0.80450      0.80957  1.28s\n",
      "     23       \u001b[36m0.36909\u001b[0m       \u001b[32m0.36288\u001b[0m      1.01712      0.80450      0.80957  1.27s\n",
      "     24       \u001b[36m0.36498\u001b[0m       \u001b[32m0.35913\u001b[0m      1.01628      0.80450      0.80957  1.27s\n",
      "     25       \u001b[36m0.36135\u001b[0m       \u001b[32m0.35581\u001b[0m      1.01559      0.80438      0.80957  1.28s\n",
      "     26       \u001b[36m0.35814\u001b[0m       \u001b[32m0.35269\u001b[0m      1.01546      0.80425      0.80957  1.27s\n",
      "     27       \u001b[36m0.35525\u001b[0m       \u001b[32m0.34991\u001b[0m      1.01527      0.80413      0.80957  1.27s\n",
      "     28       \u001b[36m0.35271\u001b[0m       \u001b[32m0.34733\u001b[0m      1.01548      0.80425      0.80957  1.27s\n",
      "     29       \u001b[36m0.35025\u001b[0m       \u001b[32m0.34502\u001b[0m      1.01515      0.80425      0.80957  1.28s\n",
      "     30       \u001b[36m0.34805\u001b[0m       \u001b[32m0.34285\u001b[0m      1.01519      0.80413      0.80957  1.28s\n",
      "     31       \u001b[36m0.34597\u001b[0m       \u001b[32m0.34092\u001b[0m      1.01482      0.80400      0.80957  1.27s\n",
      "     32       \u001b[36m0.34409\u001b[0m       \u001b[32m0.33911\u001b[0m      1.01468      0.80413      0.80957  1.27s\n",
      "     33       \u001b[36m0.34228\u001b[0m       \u001b[32m0.33743\u001b[0m      1.01437      0.80425      0.80957  1.28s\n",
      "     34       \u001b[36m0.34045\u001b[0m       \u001b[32m0.33588\u001b[0m      1.01360      0.80438      0.80957  1.27s\n",
      "     35       \u001b[36m0.33893\u001b[0m       \u001b[32m0.33439\u001b[0m      1.01359      0.80438      0.80957  1.28s\n",
      "     36       \u001b[36m0.33749\u001b[0m       \u001b[32m0.33298\u001b[0m      1.01356      0.80438      0.80957  1.28s\n",
      "     37       \u001b[36m0.33625\u001b[0m       \u001b[32m0.33166\u001b[0m      1.01384      0.80438      0.80957  1.27s\n",
      "     38       \u001b[36m0.33499\u001b[0m       \u001b[32m0.33044\u001b[0m      1.01378      0.80438      0.80957  1.28s\n",
      "     39       \u001b[36m0.33375\u001b[0m       \u001b[32m0.32930\u001b[0m      1.01350      0.80438      0.80957  1.27s\n",
      "     40       \u001b[36m0.33265\u001b[0m       \u001b[32m0.32821\u001b[0m      1.01354      0.80450      0.80957  1.27s\n",
      "     41       \u001b[36m0.33162\u001b[0m       \u001b[32m0.32717\u001b[0m      1.01360      0.80450      0.80957  1.27s\n",
      "     42       \u001b[36m0.33068\u001b[0m       \u001b[32m0.32657\u001b[0m      1.01257      0.80475      0.80957  1.28s\n",
      "     43       \u001b[36m0.32993\u001b[0m       \u001b[32m0.32524\u001b[0m      1.01443      0.80450      0.80957  1.37s\n",
      "     44       \u001b[36m0.32908\u001b[0m       \u001b[32m0.32462\u001b[0m      1.01374      0.80450      0.80957  1.28s\n",
      "     45       \u001b[36m0.32825\u001b[0m       \u001b[32m0.32376\u001b[0m      1.01387      0.80450      0.80957  1.30s\n",
      "     46       \u001b[36m0.32744\u001b[0m       \u001b[32m0.32294\u001b[0m      1.01394      0.80462      0.80957  1.37s\n",
      "     47       \u001b[36m0.32667\u001b[0m       \u001b[32m0.32216\u001b[0m      1.01401      0.80462      0.80957  1.30s\n",
      "     48       \u001b[36m0.32596\u001b[0m       \u001b[32m0.32142\u001b[0m      1.01414      0.80462      0.80957  1.20s\n",
      "     49       \u001b[36m0.32531\u001b[0m       \u001b[32m0.32072\u001b[0m      1.01430      0.80475      0.80957  1.21s\n",
      "     50       \u001b[36m0.32461\u001b[0m       \u001b[32m0.32003\u001b[0m      1.01432      0.80487      0.80957  1.16s\n",
      "     51       \u001b[36m0.32407\u001b[0m       \u001b[32m0.31936\u001b[0m      1.01475      0.80475      0.80957  1.14s\n",
      "     52       \u001b[36m0.32342\u001b[0m       \u001b[32m0.31872\u001b[0m      1.01474      0.80500      0.80957  1.19s\n",
      "     53       \u001b[36m0.32286\u001b[0m       \u001b[32m0.31811\u001b[0m      1.01491      0.80487      0.80957  1.20s\n",
      "     54       \u001b[36m0.32225\u001b[0m       \u001b[32m0.31753\u001b[0m      1.01486      0.80512      0.80957  1.16s\n",
      "     55       \u001b[36m0.32175\u001b[0m       \u001b[32m0.31701\u001b[0m      1.01496      0.80512      0.80957  1.16s\n",
      "     56       \u001b[36m0.32121\u001b[0m       \u001b[32m0.31647\u001b[0m      1.01498      0.80512      0.80957  1.15s\n",
      "     57       \u001b[36m0.32071\u001b[0m       \u001b[32m0.31597\u001b[0m      1.01498      0.80512      0.80957  1.20s\n",
      "     58       \u001b[36m0.32020\u001b[0m       \u001b[32m0.31547\u001b[0m      1.01501      0.80512      0.80957  1.16s\n",
      "     59       \u001b[36m0.31973\u001b[0m       \u001b[32m0.31500\u001b[0m      1.01504      0.80512      0.80957  1.16s\n",
      "     60       \u001b[36m0.31928\u001b[0m       \u001b[32m0.31454\u001b[0m      1.01506      0.80512      0.80957  1.16s\n",
      "     61       \u001b[36m0.31883\u001b[0m       \u001b[32m0.31408\u001b[0m      1.01512      0.80512      0.80957  1.16s\n",
      "     62       \u001b[36m0.31852\u001b[0m       \u001b[32m0.31365\u001b[0m      1.01552      0.80500      0.80957  1.16s\n",
      "     63       \u001b[36m0.31810\u001b[0m       \u001b[32m0.31322\u001b[0m      1.01557      0.80500      0.80957  1.14s\n",
      "     64       \u001b[36m0.31770\u001b[0m       \u001b[32m0.31282\u001b[0m      1.01561      0.80512      0.80957  1.16s\n",
      "     65       \u001b[36m0.31731\u001b[0m       \u001b[32m0.31242\u001b[0m      1.01563      0.80512      0.80957  1.14s\n",
      "     66       \u001b[36m0.31691\u001b[0m       \u001b[32m0.31205\u001b[0m      1.01558      0.80512      0.80957  1.16s\n",
      "     67       \u001b[36m0.31655\u001b[0m       \u001b[32m0.31168\u001b[0m      1.01561      0.80524      0.80957  1.17s\n",
      "     68       \u001b[36m0.31617\u001b[0m       \u001b[32m0.31132\u001b[0m      1.01558      0.80524      0.80957  1.14s\n",
      "     69       \u001b[36m0.31583\u001b[0m       \u001b[32m0.31098\u001b[0m      1.01561      0.80524      0.80957  1.16s\n",
      "     70       \u001b[36m0.31551\u001b[0m       \u001b[32m0.31072\u001b[0m      1.01543      0.80524      0.80957  1.15s\n",
      "     71       \u001b[36m0.31521\u001b[0m       \u001b[32m0.31037\u001b[0m      1.01560      0.80524      0.80957  1.14s\n",
      "     72       \u001b[36m0.31490\u001b[0m       \u001b[32m0.31004\u001b[0m      1.01568      0.80524      0.80957  1.16s\n",
      "     73       \u001b[36m0.31459\u001b[0m       \u001b[32m0.30974\u001b[0m      1.01569      0.80524      0.80957  1.14s\n",
      "     74       \u001b[36m0.31430\u001b[0m       \u001b[32m0.30944\u001b[0m      1.01570      0.80524      0.80957  1.16s\n",
      "     75       \u001b[36m0.31402\u001b[0m       \u001b[32m0.30918\u001b[0m      1.01564      0.80524      0.80957  1.16s\n",
      "     76       \u001b[36m0.31375\u001b[0m       \u001b[32m0.30889\u001b[0m      1.01576      0.80537      0.80957  1.18s\n",
      "     77       \u001b[36m0.31348\u001b[0m       \u001b[32m0.30864\u001b[0m      1.01567      0.80537      0.80957  1.14s\n",
      "     78       \u001b[36m0.31322\u001b[0m       \u001b[32m0.30840\u001b[0m      1.01563      0.80537      0.80957  1.16s\n",
      "     79       \u001b[36m0.31298\u001b[0m       \u001b[32m0.30813\u001b[0m      1.01574      0.80537      0.80957  1.16s\n",
      "     80       \u001b[36m0.31277\u001b[0m       \u001b[32m0.30784\u001b[0m      1.01604      0.80537      0.80957  1.14s\n",
      "     81       \u001b[36m0.31253\u001b[0m       \u001b[32m0.30760\u001b[0m      1.01605      0.80537      0.80957  1.16s\n",
      "     82       \u001b[36m0.31230\u001b[0m       \u001b[32m0.30736\u001b[0m      1.01606      0.80537      0.80957  1.16s\n",
      "     83       \u001b[36m0.31208\u001b[0m       \u001b[32m0.30713\u001b[0m      1.01609      0.80549      0.80957  1.14s\n",
      "     84       \u001b[36m0.31186\u001b[0m       \u001b[32m0.30691\u001b[0m      1.01614      0.80562      0.80957  1.20s\n",
      "     85       \u001b[36m0.31164\u001b[0m       \u001b[32m0.30669\u001b[0m      1.01614      0.80562      0.80957  1.15s\n",
      "     86       \u001b[36m0.31144\u001b[0m       \u001b[32m0.30648\u001b[0m      1.01618      0.80562      0.80957  1.17s\n",
      "     87       \u001b[36m0.31123\u001b[0m       \u001b[32m0.30627\u001b[0m      1.01619      0.80562      0.80957  1.16s\n",
      "     88       \u001b[36m0.31104\u001b[0m       \u001b[32m0.30608\u001b[0m      1.01621      0.80562      0.80957  1.15s\n",
      "     89       \u001b[36m0.31084\u001b[0m       \u001b[32m0.30588\u001b[0m      1.01621      0.80562      0.80957  1.16s\n",
      "     90       \u001b[36m0.31065\u001b[0m       \u001b[32m0.30569\u001b[0m      1.01622      0.80562      0.80957  1.14s\n",
      "     91       \u001b[36m0.31047\u001b[0m       \u001b[32m0.30552\u001b[0m      1.01620      0.80562      0.80957  1.16s\n",
      "     92       \u001b[36m0.31029\u001b[0m       \u001b[32m0.30535\u001b[0m      1.01616      0.80562      0.80957  1.17s\n",
      "     93       \u001b[36m0.31012\u001b[0m       \u001b[32m0.30518\u001b[0m      1.01621      0.80562      0.80957  1.14s\n",
      "     94       \u001b[36m0.30995\u001b[0m       \u001b[32m0.30501\u001b[0m      1.01621      0.80562      0.80957  1.16s\n",
      "     95       \u001b[36m0.30979\u001b[0m       \u001b[32m0.30484\u001b[0m      1.01622      0.80562      0.80957  1.14s\n",
      "     96       \u001b[36m0.30963\u001b[0m       \u001b[32m0.30468\u001b[0m      1.01625      0.80562      0.80957  1.16s\n",
      "     97       \u001b[36m0.30947\u001b[0m       \u001b[32m0.30451\u001b[0m      1.01629      0.80562      0.80957  1.16s\n",
      "     98       \u001b[36m0.30932\u001b[0m       \u001b[32m0.30436\u001b[0m      1.01630      0.80562      0.80957  1.16s\n",
      "     99       \u001b[36m0.30916\u001b[0m       \u001b[32m0.30420\u001b[0m      1.01631      0.80562      0.80957  1.16s\n",
      "    100       \u001b[36m0.30900\u001b[0m       \u001b[32m0.30410\u001b[0m      1.01613      0.80562      0.80957  1.14s\n"
     ]
    },
    {
     "data": {
      "text/plain": [
       "NeuralNet(X_tensor_type=None,\n",
       "     batch_iterator_test=<nolearn.lasagne.base.BatchIterator object at 0x7f739d902bd0>,\n",
       "     batch_iterator_train=<nolearn.lasagne.base.BatchIterator object at 0x7f739d902b50>,\n",
       "     custom_score=None,\n",
       "     layers=[<lasagne.layers.dense.DenseLayer object at 0x7f7382bfc450>],\n",
       "     loss=None, max_epochs=100, more_params={},\n",
       "     objective=<function objective at 0x7f739d909de8>,\n",
       "     objective_loss_function=<function categorical_crossentropy at 0x7f739e52a0c8>,\n",
       "     on_batch_finished=[],\n",
       "     on_epoch_finished=[<nolearn.lasagne.handlers.PrintLog instance at 0x7f7382159b90>],\n",
       "     on_training_finished=[],\n",
       "     on_training_started=[<nolearn.lasagne.handlers.PrintLayerInfo instance at 0x7f7380440cb0>],\n",
       "     regression=False,\n",
       "     train_split=<nolearn.lasagne.base.TrainSplit object at 0x7f739d902c10>,\n",
       "     update=<function nesterov_momentum at 0x7f739e52a9b0>,\n",
       "     update_learning_rate=0.01, update_momentum=0.9,\n",
       "     use_label_encoder=False, verbose=1,\n",
       "     y_tensor_type=TensorType(int32, vector))"
      ]
     },
     "execution_count": 62,
     "metadata": {},
     "output_type": "execute_result"
    }
   ],
   "source": [
    "nn.fit(ds.X, ds.y)"
   ]
  },
  {
   "cell_type": "code",
   "execution_count": 63,
   "metadata": {
    "collapsed": false
   },
   "outputs": [
    {
     "data": {
      "text/plain": [
       "(array([[   0, 1896,    0,    0,    0],\n",
       "        [   0, 2009,    0,    0,    0],\n",
       "        [   0,   45, 2007,    0,    0],\n",
       "        [   0,    0,    2, 2003,    0],\n",
       "        [   0,    0,    0,    5, 2033]]), 0.80520000000000003)"
      ]
     },
     "execution_count": 63,
     "metadata": {},
     "output_type": "execute_result"
    }
   ],
   "source": [
    "confusion_matrix(ds.y, nn.predict(ds.X)), (ds.y == nn.predict(ds.X)).mean()\n",
    "# We always predict 1s as 2s.\n",
    "# But other than that we never predict more spots than there actually are."
   ]
  },
  {
   "cell_type": "code",
   "execution_count": 64,
   "metadata": {
    "collapsed": false
   },
   "outputs": [
    {
     "data": {
      "image/png": "[encoded data removed]",
      "text/plain": [
       "<matplotlib.figure.Figure at 0x7f737d978390>"
      ]
     },
     "metadata": {},
     "output_type": "display_data"
    }
   ],
   "source": [
    "y = nn.predict(ds.X)\n",
    "incorrect = ds.y != y\n",
    "\n",
    "# there are quite a few 3s classified as 2s.\n",
    "# we just want to look at some incorrect samples, not all of them.\n",
    "plot_idx = 1\n",
    "for c in (1, 3, 4, 5):\n",
    "    incorrect_for_c = incorrect & (ds.y == c - 1)\n",
    "    yact = ds.y[incorrect_for_c]\n",
    "    ypre = y[incorrect_for_c]\n",
    "    xs = ds.X[incorrect_for_c]\n",
    "    \n",
    "    for i in range(min(5, len(xs))):\n",
    "        plt.subplot(4, 5, plot_idx + i)\n",
    "        plt.title('{} as {}'.format(yact[i] + 1, ypre[i] + 1))\n",
    "        plt.imshow(xs[i].squeeze())\n",
    "        plt.axis('off')\n",
    "    plot_idx += 5\n",
    "plt.tight_layout()"
   ]
  },
  {
   "cell_type": "code",
   "execution_count": 177,
   "metadata": {
    "collapsed": false
   },
   "outputs": [
    {
     "data": {
      "text/plain": [
       "<matplotlib.image.AxesImage at 0x7f737ccac990>"
      ]
     },
     "execution_count": 177,
     "metadata": {},
     "output_type": "execute_result"
    },
    {
     "data": {
      "image/png": "[encoded data removed]",
      "text/plain": [
       "<matplotlib.figure.Figure at 0x7f737c9df650>"
      ]
     },
     "metadata": {},
     "output_type": "display_data"
    }
   ],
   "source": [
    "# Let's look naively at the network weights\n",
    "# The flipping is needed since we are using convolutions, not correlations.\n",
    "plt.imshow(cl.W.get_value().squeeze()[::-1,::-1])\n",
    "# This filter is already much different from what I would expect (a cross)"
   ]
  },
  {
   "cell_type": "code",
   "execution_count": 178,
   "metadata": {
    "collapsed": false
   },
   "outputs": [
    {
     "data": {
      "text/plain": [
       "array([[-3.3575, -3.3523, -1.6121],\n",
       "       [-3.1934, -3.1523, -1.6046],\n",
       "       [-1.6716, -1.544 , -0.3821]], dtype=float32)"
      ]
     },
     "execution_count": 178,
     "metadata": {},
     "output_type": "execute_result"
    }
   ],
   "source": [
    "cl.W.get_value().squeeze()[::-1,::-1]"
   ]
  },
  {
   "cell_type": "code",
   "execution_count": 189,
   "metadata": {
    "collapsed": false
   },
   "outputs": [
    {
     "data": {
      "image/png": "[encoded data removed]",
      "text/plain": [
       "<matplotlib.figure.Figure at 0x7f737c668390>"
      ]
     },
     "metadata": {},
     "output_type": "display_data"
    }
   ],
   "source": [
    "# Alternatively instead of looking at the filter, we can look at the outputs of the filter applied to input images.\n",
    "f = theano.function([il.input_var], lasagne.layers.get_output(cl))\n",
    "cs = (1,2,3,4,5)\n",
    "xs = np.array([ds.X[ds.y == (c - 1)][0] for c in cs])\n",
    "ys = f(xs)\n",
    "vmin, vmax = ys.min(), ys.max()\n",
    "\n",
    "for i, c in enumerate(cs, 0):\n",
    "    x, y = xs[i], ys[i]\n",
    "    plt.subplot(5, 2, i * 2 + 1)\n",
    "    plt.imshow(x.squeeze())\n",
    "    plt.axis('off')    \n",
    "    plt.subplot(5, 2, i * 2 + 2)\n",
    "    plt.imshow(y.squeeze(), vmax=vmax, vmin=vmin)\n",
    "    plt.axis('off')\n"
   ]
  },
  {
   "cell_type": "code",
   "execution_count": 190,
   "metadata": {
    "collapsed": false
   },
   "outputs": [
    {
     "data": {
      "text/plain": [
       "(array([[[ 0.5201,  0.5193,  0.2497],\n",
       "         [ 0.4947,  0.4884,  0.2486],\n",
       "         [ 0.259 ,  0.2392,  0.0592]]], dtype=float32),\n",
       " array([[[ 0.2352,  0.2348,  0.1129],\n",
       "         [ 0.2237,  0.2208,  0.1124],\n",
       "         [ 0.1171,  0.1082,  0.0268]]], dtype=float32))"
      ]
     },
     "execution_count": 190,
     "metadata": {},
     "output_type": "execute_result"
    }
   ],
   "source": [
    "# The filter is strongly negative, the dataset is standardized per *image*,\n",
    "# This means that images w/ more spots will have stronger negative values in their non-spot areas,\n",
    "# such that the mean can still become 0.\n",
    "(xs[-1][:, :3, :3] * cl.W.get_value().squeeze()[::-1,::-1],\n",
    " xs[0][:, :3, :3] * cl.W.get_value().squeeze()[::-1,::-1])"
   ]
  },
  {
   "cell_type": "code",
   "execution_count": 192,
   "metadata": {
    "collapsed": false
   },
   "outputs": [
    {
     "data": {
      "text/plain": [
       "array([-2.2926], dtype=float32)"
      ]
     },
     "execution_count": 192,
     "metadata": {},
     "output_type": "execute_result"
    }
   ],
   "source": [
    "# The conv layer is using a rectifier.\n",
    "# coupling this w/ a relatively strong negative bias, \n",
    "# implies that the output will be all 0s for most input w/ only 1 or 2 spots.\n",
    "cl.b.get_value()"
   ]
  },
  {
   "cell_type": "code",
   "execution_count": 199,
   "metadata": {
    "collapsed": false
   },
   "outputs": [
    {
     "data": {
      "text/plain": [
       "array([1])"
      ]
     },
     "execution_count": 199,
     "metadata": {},
     "output_type": "execute_result"
    }
   ],
   "source": [
    "# The question then is why did the image w/ three spots not activate?\n",
    "# Probably because this is one of the misclassified images:\n",
    "nn.predict(xs[2:3]) # => which it is"
   ]
  },
  {
   "cell_type": "code",
   "execution_count": 201,
   "metadata": {
    "collapsed": false
   },
   "outputs": [
    {
     "data": {
      "text/plain": [
       "array([2])"
      ]
     },
     "execution_count": 201,
     "metadata": {},
     "output_type": "execute_result"
    }
   ],
   "source": [
    "# Try another 3 that is not misclassified:\n",
    "three = ds.X[ds.y == (3 - 1)][1]\n",
    "nn.predict(three[None,:,:,:]) # => 2 is correct, classes are offset by 1"
   ]
  },
  {
   "cell_type": "code",
   "execution_count": 203,
   "metadata": {
    "collapsed": false
   },
   "outputs": [
    {
     "data": {
      "text/plain": [
       "<matplotlib.image.AxesImage at 0x7f737b54b790>"
      ]
     },
     "execution_count": 203,
     "metadata": {},
     "output_type": "execute_result"
    },
    {
     "data": {
      "image/png": "[encoded data removed]",
      "text/plain": [
       "<matplotlib.figure.Figure at 0x7f737db3ca50>"
      ]
     },
     "metadata": {},
     "output_type": "display_data"
    }
   ],
   "source": [
    "plt.subplot(1,2,1)\n",
    "plt.imshow(three.squeeze())\n",
    "plt.subplot(1,2,2)\n",
    "plt.imshow(f(three[None,:,:,:]).squeeze())"
   ]
  },
  {
   "cell_type": "code",
   "execution_count": 74,
   "metadata": {
    "collapsed": false
   },
   "outputs": [
    {
     "data": {
      "image/png": "[encoded data removed]",
      "text/plain": [
       "<matplotlib.figure.Figure at 0x7f737da443d0>"
      ]
     },
     "metadata": {},
     "output_type": "display_data"
    }
   ],
   "source": [
    "W = dl.W.get_value().reshape(32, 32, 5)\n",
    "vmin, vmax = W.min(), W.max()\n",
    "for i in range(1, 5+1):\n",
    "    plt.subplot(1, 5, i)\n",
    "    plt.title(i)\n",
    "    plt.imshow(W[:,:,i-1], vmax=vmax, vmin=vmin)\n",
    "    plt.axis('off')\n",
    "# The filters do not seem all that different,\n",
    "# other than the behavior at the borders for class 4 and 5."
   ]
  },
  {
   "cell_type": "code",
   "execution_count": 79,
   "metadata": {
    "collapsed": false
   },
   "outputs": [
    {
     "data": {
      "text/plain": [
       "array([ 4.6534,  4.728 ,  1.5799, -5.4344, -5.527 ], dtype=float32)"
      ]
     },
     "execution_count": 79,
     "metadata": {},
     "output_type": "execute_result"
    }
   ],
   "source": [
    "dl.b.get_value()"
   ]
  },
  {
   "cell_type": "code",
   "execution_count": 85,
   "metadata": {
    "collapsed": true
   },
   "outputs": [],
   "source": [
    "# It is no surprise that with the bias of class 1 < class 2,\n",
    "# and their filters not significantly different,\n",
    "# that class 1 is often mistaken for class 2.\n",
    "# Let's see if we can fix this:\n",
    "b_old = dl.b.get_value()\n",
    "b_new = b_old.copy()\n",
    "b_new[0] = 4.7285\n",
    "dl.b.set_value(b_new)"
   ]
  },
  {
   "cell_type": "code",
   "execution_count": 86,
   "metadata": {
    "collapsed": false
   },
   "outputs": [
    {
     "data": {
      "text/plain": [
       "(array([[1896,    0,    0,    0,    0],\n",
       "        [2009,    0,    0,    0,    0],\n",
       "        [  45,    0, 2007,    0,    0],\n",
       "        [   0,    0,    2, 2003,    0],\n",
       "        [   0,    0,    0,    5, 2033]]), 0.79390000000000005)"
      ]
     },
     "execution_count": 86,
     "metadata": {},
     "output_type": "execute_result"
    }
   ],
   "source": [
    "confusion_matrix(ds.y, nn.predict(ds.X)), (ds.y == nn.predict(ds.X)).mean()\n",
    "# now all 2s are 1s, and some 3s are 1s!"
   ]
  },
  {
   "cell_type": "code",
   "execution_count": 131,
   "metadata": {
    "collapsed": false
   },
   "outputs": [
    {
     "data": {
      "text/plain": [
       "(array([[1896,    0,    0,    0,    0],\n",
       "        [2009,    0,    0,    0,    0],\n",
       "        [  45,    0, 2007,    0,    0],\n",
       "        [   0,    0,    2, 2003,    0],\n",
       "        [   0,    0,    0,    5, 2033]]), 0.79390000000000005)"
      ]
     },
     "execution_count": 131,
     "metadata": {},
     "output_type": "execute_result"
    }
   ],
   "source": [
    "b_new = b_old.copy()\n",
    "b_new[0] = 4.728015185\n",
    "dl.b.set_value(b_new)\n",
    "confusion_matrix(ds.y, nn.predict(ds.X)), (ds.y == nn.predict(ds.X)).mean()\n",
    "# Could not find a cutoff point where some 2s become 2s while some 1s stay 1s."
   ]
  },
  {
   "cell_type": "code",
   "execution_count": 132,
   "metadata": {
    "collapsed": true
   },
   "outputs": [],
   "source": [
    "dl.b.set_value(b_old)"
   ]
  },
  {
   "cell_type": "code",
   "execution_count": 142,
   "metadata": {
    "collapsed": false
   },
   "outputs": [],
   "source": [
    "# Interpreting the network using just these simple weights is already too difficult [for me].\n",
    "# Let's look at some visualization techniques.\n",
    "X_init = np.random.randn(1, 1, 32, 32).astype(theano.config.floatX)\n",
    "X_init -= X_init.mean()\n",
    "X_init /= X_init.std()\n",
    "max_norm = lasagne.utils.compute_norms(X_init).max()\n",
    "\n",
    "scores_and_maximizers = vizlib.activation_maximization.maximize_scores(\n",
    "    dl, X_init, number_of_iterations=100, max_norm=max_norm,\n",
    ")\n",
    "scores, maximizers = zip(*scores_and_maximizers)"
   ]
  },
  {
   "cell_type": "code",
   "execution_count": 150,
   "metadata": {
    "collapsed": false
   },
   "outputs": [
    {
     "data": {
      "image/png": "[encoded data removed]",
      "text/plain": [
       "<matplotlib.figure.Figure at 0x7f737ceda6d0>"
      ]
     },
     "metadata": {},
     "output_type": "display_data"
    }
   ],
   "source": [
    "vmax = max(m.max() for s, m in scores_and_maximizers)\n",
    "vmin = min(m.min() for s, m in scores_and_maximizers)\n",
    "for i, (s, m) in enumerate(scores_and_maximizers, 1):\n",
    "    plt.subplot(1, len(scores_and_maximizers), i)\n",
    "    plt.imshow(m.squeeze(), vmax=vmax, vmin=vmin)\n",
    "    plt.axis('off')\n",
    "    plt.title(s)\n",
    "# Not sure how to interpret this!"
   ]
  },
  {
   "cell_type": "code",
   "execution_count": 152,
   "metadata": {
    "collapsed": false
   },
   "outputs": [
    {
     "name": "stdout",
     "output_type": "stream",
     "text": [
      "[[ 0.  0.  0.  0.  1.]]\n",
      "[[ 0.  0.  0.  0.  1.]]\n",
      "[[ 0.  0.  0.  0.  1.]]\n",
      "[[ 0.  0.  0.  0.  1.]]\n",
      "[[ 0.  0.  0.  0.  1.]]\n"
     ]
    }
   ],
   "source": [
    "# Lets look at the probabilities assigned to these so called maximizers.\n",
    "for s, m in scores_and_maximizers:\n",
    "    print(nn.predict_proba(m))"
   ]
  },
  {
   "cell_type": "code",
   "execution_count": 147,
   "metadata": {
    "collapsed": false
   },
   "outputs": [
    {
     "name": "stderr",
     "output_type": "stream",
     "text": [
      "INFO (theano.gof.compilelock): Refreshing lock /home/jan/.theano/compiledir_Linux-3.16--generic-x86_64-with-Ubuntu-14.04-trusty-x86_64-2.7.6-64/lock_dir/lock\n",
      "INFO:theano.gof.compilelock:Refreshing lock /home/jan/.theano/compiledir_Linux-3.16--generic-x86_64-with-Ubuntu-14.04-trusty-x86_64-2.7.6-64/lock_dir/lock\n"
     ]
    },
    {
     "data": {
      "image/png": "[encoded data removed]",
      "text/plain": [
       "<matplotlib.figure.Figure at 0x7f737c8f1050>"
      ]
     },
     "metadata": {},
     "output_type": "display_data"
    }
   ],
   "source": [
    "# Repeat the same experiment, but this time maximize the\n",
    "# softmax output, rather than the activation.\n",
    "X_init = np.random.randn(1, 1, 32, 32).astype(theano.config.floatX)\n",
    "X_init -= X_init.mean()\n",
    "X_init /= X_init.std()\n",
    "max_norm = lasagne.utils.compute_norms(X_init).max()\n",
    "\n",
    "scores_and_maximizers = vizlib.activation_maximization.maximize_scores(\n",
    "    dl, X_init, number_of_iterations=100, max_norm=max_norm,\n",
    "    ignore_nonlinearity=False,\n",
    ")\n",
    "scores, maximizers = zip(*scores_and_maximizers)\n",
    "\n",
    "vmax = max(m.max() for s, m in scores_and_maximizers)\n",
    "vmin = min(m.min() for s, m in scores_and_maximizers)\n",
    "for i, (s, m) in enumerate(scores_and_maximizers, 1):\n",
    "    plt.subplot(1, len(scores_and_maximizers), i)\n",
    "    plt.imshow(m.squeeze(), vmax=vmax, vmin=vmin)\n",
    "    plt.axis('off')\n",
    "    plt.title(s)"
   ]
  },
  {
   "cell_type": "code",
   "execution_count": 153,
   "metadata": {
    "collapsed": false
   },
   "outputs": [
    {
     "data": {
      "image/png": "[encoded data removed]",
      "text/plain": [
       "<matplotlib.figure.Figure at 0x7f7377fb44d0>"
      ]
     },
     "metadata": {},
     "output_type": "display_data"
    }
   ],
   "source": [
    "# Repeat the same experiment, but this time maximize the\n",
    "# softmax output, rather than the activation.\n",
    "X_init = np.random.randn(1, 1, 32, 32).astype(theano.config.floatX)\n",
    "X_init -= X_init.mean()\n",
    "X_init /= X_init.std()\n",
    "max_norm = lasagne.utils.compute_norms(X_init).max()\n",
    "\n",
    "scores_and_maximizers = vizlib.activation_maximization.maximize_scores(\n",
    "    dl, X_init, number_of_iterations=100, max_norm=None,\n",
    "    ignore_nonlinearity=False,\n",
    ")\n",
    "scores, maximizers = zip(*scores_and_maximizers)\n",
    "\n",
    "vmax = max(m.max() for s, m in scores_and_maximizers)\n",
    "vmin = min(m.min() for s, m in scores_and_maximizers)\n",
    "for i, (s, m) in enumerate(scores_and_maximizers, 1):\n",
    "    plt.subplot(1, len(scores_and_maximizers), i)\n",
    "    plt.imshow(m.squeeze(), vmax=vmax, vmin=vmin)\n",
    "    plt.axis('off')\n",
    "    plt.title(s)"
   ]
  },
  {
   "cell_type": "code",
   "execution_count": 158,
   "metadata": {
    "collapsed": false
   },
   "outputs": [
    {
     "data": {
      "image/png": "[encoded data removed]",
      "text/plain": [
       "<matplotlib.figure.Figure at 0x7f737cfb5990>"
      ]
     },
     "metadata": {},
     "output_type": "display_data"
    }
   ],
   "source": [
    "# This initialization might lean\n",
    "# too much toward the class w/ the most spot\n",
    "# Repeat the experiment, but this time start from all 0s.\n",
    "X_init = np.zeros((1, 1, 32, 32)).astype(theano.config.floatX)\n",
    "\n",
    "scores_and_maximizers = vizlib.activation_maximization.maximize_scores(\n",
    "    dl, X_init, number_of_iterations=100, max_norm=None,\n",
    "    ignore_nonlinearity=True,\n",
    ")\n",
    "scores, maximizers = zip(*scores_and_maximizers)\n",
    "\n",
    "vmax = max(m.max() for s, m in scores_and_maximizers)\n",
    "vmin = min(m.min() for s, m in scores_and_maximizers)\n",
    "for i, (s, m) in enumerate(scores_and_maximizers, 1):\n",
    "    plt.subplot(1, len(scores_and_maximizers), i)\n",
    "    plt.imshow(m.squeeze(), vmax=vmax, vmin=vmin)\n",
    "    plt.axis('off')\n",
    "    plt.title(s)\n",
    "# Which does not escape the local minima of all 0s."
   ]
  },
  {
   "cell_type": "code",
   "execution_count": 162,
   "metadata": {
    "collapsed": false
   },
   "outputs": [
    {
     "data": {
      "image/png": "[encoded data removed]",
      "text/plain": [
       "<matplotlib.figure.Figure at 0x7f737b5a7d10>"
      ]
     },
     "metadata": {},
     "output_type": "display_data"
    }
   ],
   "source": [
    "# Start instead from an initialization that is related to the\n",
    "# training set.\n",
    "X_init = ds.X[0:1]\n",
    "\n",
    "scores_and_maximizers = vizlib.activation_maximization.maximize_scores(\n",
    "    dl, X_init, number_of_iterations=100, max_norm=None,\n",
    "    ignore_nonlinearity=True,\n",
    ")\n",
    "scores, maximizers = zip(*scores_and_maximizers)\n",
    "\n",
    "vmax = max(m.max() for s, m in scores_and_maximizers)\n",
    "vmin = min(m.min() for s, m in scores_and_maximizers)\n",
    "plt.subplot(1, len(scores_and_maximizers) + 1, 1)\n",
    "plt.imshow(X_init.squeeze())\n",
    "plt.title('Initialization')\n",
    "plt.axis('off')\n",
    "for i, (s, m) in enumerate(scores_and_maximizers, 2):\n",
    "    plt.subplot(1, len(scores_and_maximizers) + 1, i)\n",
    "    plt.imshow(m.squeeze(), vmax=vmax, vmin=vmin)\n",
    "    plt.axis('off')\n",
    "    plt.title(s)"
   ]
  },
  {
   "cell_type": "code",
   "execution_count": null,
   "metadata": {
    "collapsed": true
   },
   "outputs": [],
   "source": [
    "# Not sure how to interpret all the results here,\n",
    "# and if the guarantee correctness.\n",
    "# Nevertheless, it seems more fruitfull to try to train a new network.\n",
    "# One that possibly uses some pooling, so that we get better results."
   ]
  }
 ],
 "metadata": {
  "kernelspec": {
   "display_name": "Python 2",
   "language": "python",
   "name": "python2"
  },
  "language_info": {
   "codemirror_mode": {
    "name": "ipython",
    "version": 2
   },
   "file_extension": ".py",
   "mimetype": "text/x-python",
   "name": "python",
   "nbconvert_exporter": "python",
   "pygments_lexer": "ipython2",
   "version": "2.7.6"
  }
 },
 "nbformat": 4,
 "nbformat_minor": 0
}
